{
 "cells": [
  {
   "cell_type": "code",
   "execution_count": 141,
   "id": "1044063d",
   "metadata": {},
   "outputs": [],
   "source": [
    "from requests import get\n",
    "from json import loads\n",
    "import time\n",
    "import pandas as pd\n",
    "from tqdm.notebook import trange, tqdm \n",
    "import matplotlib.pyplot as plt\n",
    "import seaborn as sns"
   ]
  },
  {
   "cell_type": "code",
   "execution_count": 146,
   "id": "f7f95686",
   "metadata": {},
   "outputs": [],
   "source": [
    "card_request = \"bonecrusher giant\""
   ]
  },
  {
   "cell_type": "code",
   "execution_count": 147,
   "id": "096615c3",
   "metadata": {},
   "outputs": [],
   "source": [
    "card = loads(get(f\"https://api.scryfall.com/cards/named?fuzzy={card_request}\").text)"
   ]
  },
  {
   "cell_type": "code",
   "execution_count": 148,
   "id": "bf731724",
   "metadata": {},
   "outputs": [
    {
     "data": {
      "text/plain": [
       "[{'object': 'card_face',\n",
       "  'name': 'Bonecrusher Giant',\n",
       "  'mana_cost': '{2}{R}',\n",
       "  'type_line': 'Creature — Giant',\n",
       "  'oracle_text': \"Whenever Bonecrusher Giant becomes the target of a spell, Bonecrusher Giant deals 2 damage to that spell's controller.\",\n",
       "  'power': '4',\n",
       "  'toughness': '3',\n",
       "  'flavor_text': 'Not every tale ends in glory.',\n",
       "  'artist': 'Victor Adame Minguez',\n",
       "  'artist_id': 'bd8f7368-5b10-4554-b6b8-d052c6aca89f',\n",
       "  'illustration_id': 'c7f49422-def6-4502-bc02-38aee9924371'},\n",
       " {'object': 'card_face',\n",
       "  'name': 'Stomp',\n",
       "  'flavor_name': '',\n",
       "  'mana_cost': '{1}{R}',\n",
       "  'type_line': 'Instant — Adventure',\n",
       "  'oracle_text': \"Damage can't be prevented this turn. Stomp deals 2 damage to any target.\",\n",
       "  'artist': 'Victor Adame Minguez',\n",
       "  'artist_id': 'bd8f7368-5b10-4554-b6b8-d052c6aca89f'}]"
      ]
     },
     "execution_count": 148,
     "metadata": {},
     "output_type": "execute_result"
    }
   ],
   "source": [
    "card[\"card_faces\"]"
   ]
  },
  {
   "cell_type": "code",
   "execution_count": 77,
   "id": "14607879",
   "metadata": {},
   "outputs": [
    {
     "data": {
      "text/plain": [
       "dict_keys(['object', 'id', 'oracle_id', 'multiverse_ids', 'name', 'printed_name', 'lang', 'released_at', 'uri', 'scryfall_uri', 'layout', 'highres_image', 'image_status', 'image_uris', 'mana_cost', 'cmc', 'type_line', 'printed_type_line', 'oracle_text', 'printed_text', 'colors', 'color_identity', 'keywords', 'legalities', 'games', 'reserved', 'foil', 'nonfoil', 'finishes', 'oversized', 'promo', 'reprint', 'variation', 'set_id', 'set', 'set_name', 'set_type', 'set_uri', 'set_search_uri', 'scryfall_set_uri', 'rulings_uri', 'prints_search_uri', 'collector_number', 'digital', 'rarity', 'flavor_text', 'card_back_id', 'artist', 'artist_ids', 'illustration_id', 'border_color', 'frame', 'full_art', 'textless', 'booster', 'story_spotlight', 'edhrec_rank', 'prices', 'related_uris', 'purchase_uris'])"
      ]
     },
     "execution_count": 77,
     "metadata": {},
     "output_type": "execute_result"
    }
   ],
   "source": [
    "card.keys()"
   ]
  },
  {
   "cell_type": "code",
   "execution_count": 71,
   "id": "5c1a3cee",
   "metadata": {},
   "outputs": [
    {
     "ename": "KeyError",
     "evalue": "'data'",
     "output_type": "error",
     "traceback": [
      "\u001b[0;31m---------------------------------------------------------------------------\u001b[0m",
      "\u001b[0;31mKeyError\u001b[0m                                  Traceback (most recent call last)",
      "Input \u001b[0;32mIn [71]\u001b[0m, in \u001b[0;36m<cell line: 1>\u001b[0;34m()\u001b[0m\n\u001b[0;32m----> 1\u001b[0m \u001b[43mcard\u001b[49m\u001b[43m[\u001b[49m\u001b[38;5;124;43m\"\u001b[39;49m\u001b[38;5;124;43mdata\u001b[39;49m\u001b[38;5;124;43m\"\u001b[39;49m\u001b[43m]\u001b[49m\n",
      "\u001b[0;31mKeyError\u001b[0m: 'data'"
     ]
    }
   ],
   "source": [
    "card[\"data\"]"
   ]
  },
  {
   "cell_type": "code",
   "execution_count": 72,
   "id": "ff024fbe",
   "metadata": {},
   "outputs": [],
   "source": [
    "time.sleep(0.01)"
   ]
  },
  {
   "cell_type": "markdown",
   "id": "e4e7bad1",
   "metadata": {},
   "source": [
    "### Parse deck"
   ]
  },
  {
   "cell_type": "code",
   "execution_count": 118,
   "id": "84608db4",
   "metadata": {},
   "outputs": [],
   "source": [
    "file = \"Listes/Juri.txt\" \n",
    "with open(file) as f:\n",
    "    lines = f.readlines()"
   ]
  },
  {
   "cell_type": "code",
   "execution_count": 127,
   "id": "bd17158f",
   "metadata": {
    "scrolled": true
   },
   "outputs": [
    {
     "data": {
      "application/vnd.jupyter.widget-view+json": {
       "model_id": "4137c00d98274cc988f403f86fa54c73",
       "version_major": 2,
       "version_minor": 0
      },
      "text/plain": [
       "  0%|          | 0/91 [00:00<?, ?it/s]"
      ]
     },
     "metadata": {},
     "output_type": "display_data"
    }
   ],
   "source": [
    "decklist = {\"nom\":[],\"cmc\":[],\"text\":[],\"mana_cost\":[],\"type\":[]}\n",
    "for l in tqdm(lines):\n",
    "    line = l.split(\"\\n\")[0]\n",
    "    nb_card = int(line[0])\n",
    "    card = line[2:]\n",
    "    card = loads(get(f\"https://api.scryfall.com/cards/named?fuzzy={card}\").text)\n",
    "    \n",
    "    for _ in range(nb_card):\n",
    "        decklist[\"nom\"].append(card[\"name\"])\n",
    "        decklist[\"cmc\"].append(card[\"cmc\"])\n",
    "        try:\n",
    "            decklist[\"text\"].append(card[\"oracle_text\"])\n",
    "            decklist[\"mana_cost\"].append(card[\"mana_cost\"])\n",
    "            decklist[\"type\"].append(card[\"type_line\"])\n",
    "        except KeyError:\n",
    "            #TODO EDGE CASE: treat double face cards\n",
    "            decklist[\"text\"].append(\"NA\")\n",
    "            decklist[\"mana_cost\"].append(\"NA\")\n",
    "            decklist[\"type\"].append(\"NA\")\n",
    "    time.sleep(0.01)"
   ]
  },
  {
   "cell_type": "code",
   "execution_count": 128,
   "id": "c8863c45",
   "metadata": {},
   "outputs": [],
   "source": [
    "deck_df = pd.DataFrame(decklist)"
   ]
  },
  {
   "cell_type": "code",
   "execution_count": 132,
   "id": "9523de02",
   "metadata": {},
   "outputs": [
    {
     "data": {
      "text/html": [
       "<div>\n",
       "<style scoped>\n",
       "    .dataframe tbody tr th:only-of-type {\n",
       "        vertical-align: middle;\n",
       "    }\n",
       "\n",
       "    .dataframe tbody tr th {\n",
       "        vertical-align: top;\n",
       "    }\n",
       "\n",
       "    .dataframe thead th {\n",
       "        text-align: right;\n",
       "    }\n",
       "</style>\n",
       "<table border=\"1\" class=\"dataframe\">\n",
       "  <thead>\n",
       "    <tr style=\"text-align: right;\">\n",
       "      <th></th>\n",
       "      <th>nom</th>\n",
       "      <th>cmc</th>\n",
       "      <th>text</th>\n",
       "      <th>mana_cost</th>\n",
       "      <th>type</th>\n",
       "    </tr>\n",
       "  </thead>\n",
       "  <tbody>\n",
       "    <tr>\n",
       "      <th>0</th>\n",
       "      <td>Arid Mesa</td>\n",
       "      <td>0.0</td>\n",
       "      <td>{T}, Pay 1 life, Sacrifice Arid Mesa: Search y...</td>\n",
       "      <td></td>\n",
       "      <td>Land</td>\n",
       "    </tr>\n",
       "    <tr>\n",
       "      <th>1</th>\n",
       "      <td>Badlands</td>\n",
       "      <td>0.0</td>\n",
       "      <td>({T}: Add {B} or {R}.)</td>\n",
       "      <td></td>\n",
       "      <td>Land — Swamp Mountain</td>\n",
       "    </tr>\n",
       "    <tr>\n",
       "      <th>2</th>\n",
       "      <td>Barbarian Ring</td>\n",
       "      <td>0.0</td>\n",
       "      <td>{T}: Add {R}. Barbarian Ring deals 1 damage to...</td>\n",
       "      <td></td>\n",
       "      <td>Land</td>\n",
       "    </tr>\n",
       "    <tr>\n",
       "      <th>3</th>\n",
       "      <td>Blackcleave Cliffs</td>\n",
       "      <td>0.0</td>\n",
       "      <td>Blackcleave Cliffs enters the battlefield tapp...</td>\n",
       "      <td></td>\n",
       "      <td>Land</td>\n",
       "    </tr>\n",
       "    <tr>\n",
       "      <th>4</th>\n",
       "      <td>Blightstep Pathway // Searstep Pathway</td>\n",
       "      <td>0.0</td>\n",
       "      <td>NA</td>\n",
       "      <td>NA</td>\n",
       "      <td>NA</td>\n",
       "    </tr>\n",
       "    <tr>\n",
       "      <th>...</th>\n",
       "      <td>...</td>\n",
       "      <td>...</td>\n",
       "      <td>...</td>\n",
       "      <td>...</td>\n",
       "      <td>...</td>\n",
       "    </tr>\n",
       "    <tr>\n",
       "      <th>95</th>\n",
       "      <td>Voldaren Epicure</td>\n",
       "      <td>1.0</td>\n",
       "      <td>When Voldaren Epicure enters the battlefield, ...</td>\n",
       "      <td>{R}</td>\n",
       "      <td>Creature — Vampire</td>\n",
       "    </tr>\n",
       "    <tr>\n",
       "      <th>96</th>\n",
       "      <td>Woe Strider</td>\n",
       "      <td>3.0</td>\n",
       "      <td>When Woe Strider enters the battlefield, creat...</td>\n",
       "      <td>{2}{B}</td>\n",
       "      <td>Creature — Horror</td>\n",
       "    </tr>\n",
       "    <tr>\n",
       "      <th>97</th>\n",
       "      <td>Wooded Foothills</td>\n",
       "      <td>0.0</td>\n",
       "      <td>{T}, Pay 1 life, Sacrifice Wooded Foothills: S...</td>\n",
       "      <td></td>\n",
       "      <td>Land</td>\n",
       "    </tr>\n",
       "    <tr>\n",
       "      <th>98</th>\n",
       "      <td>Zuran Orb</td>\n",
       "      <td>0.0</td>\n",
       "      <td>Sacrifice a land: You gain 2 life.</td>\n",
       "      <td>{0}</td>\n",
       "      <td>Artifact</td>\n",
       "    </tr>\n",
       "    <tr>\n",
       "      <th>99</th>\n",
       "      <td>Zurgo Bellstriker</td>\n",
       "      <td>1.0</td>\n",
       "      <td>Zurgo Bellstriker can't block creatures with p...</td>\n",
       "      <td>{R}</td>\n",
       "      <td>Legendary Creature — Orc Warrior</td>\n",
       "    </tr>\n",
       "  </tbody>\n",
       "</table>\n",
       "<p>100 rows × 5 columns</p>\n",
       "</div>"
      ],
      "text/plain": [
       "                                       nom  cmc  \\\n",
       "0                                Arid Mesa  0.0   \n",
       "1                                 Badlands  0.0   \n",
       "2                           Barbarian Ring  0.0   \n",
       "3                       Blackcleave Cliffs  0.0   \n",
       "4   Blightstep Pathway // Searstep Pathway  0.0   \n",
       "..                                     ...  ...   \n",
       "95                        Voldaren Epicure  1.0   \n",
       "96                             Woe Strider  3.0   \n",
       "97                        Wooded Foothills  0.0   \n",
       "98                               Zuran Orb  0.0   \n",
       "99                       Zurgo Bellstriker  1.0   \n",
       "\n",
       "                                                 text mana_cost  \\\n",
       "0   {T}, Pay 1 life, Sacrifice Arid Mesa: Search y...             \n",
       "1                              ({T}: Add {B} or {R}.)             \n",
       "2   {T}: Add {R}. Barbarian Ring deals 1 damage to...             \n",
       "3   Blackcleave Cliffs enters the battlefield tapp...             \n",
       "4                                                  NA        NA   \n",
       "..                                                ...       ...   \n",
       "95  When Voldaren Epicure enters the battlefield, ...       {R}   \n",
       "96  When Woe Strider enters the battlefield, creat...    {2}{B}   \n",
       "97  {T}, Pay 1 life, Sacrifice Wooded Foothills: S...             \n",
       "98                 Sacrifice a land: You gain 2 life.       {0}   \n",
       "99  Zurgo Bellstriker can't block creatures with p...       {R}   \n",
       "\n",
       "                                type  \n",
       "0                               Land  \n",
       "1              Land — Swamp Mountain  \n",
       "2                               Land  \n",
       "3                               Land  \n",
       "4                                 NA  \n",
       "..                               ...  \n",
       "95                Creature — Vampire  \n",
       "96                 Creature — Horror  \n",
       "97                              Land  \n",
       "98                          Artifact  \n",
       "99  Legendary Creature — Orc Warrior  \n",
       "\n",
       "[100 rows x 5 columns]"
      ]
     },
     "execution_count": 132,
     "metadata": {},
     "output_type": "execute_result"
    }
   ],
   "source": [
    "deck_df"
   ]
  },
  {
   "cell_type": "code",
   "execution_count": 138,
   "id": "59772bfe",
   "metadata": {},
   "outputs": [],
   "source": [
    "cmc = []\n",
    "for i in range(len(deck_df)):\n",
    "    if \"Land\" in deck_df[\"type\"].iloc[i]:\n",
    "        pass\n",
    "    elif \"NA\" in deck_df[\"type\"].iloc[i]:\n",
    "        pass\n",
    "    else:\n",
    "        cmc.append(int(deck_df[\"cmc\"].iloc[i]))"
   ]
  },
  {
   "cell_type": "code",
   "execution_count": 140,
   "id": "e890acc7",
   "metadata": {},
   "outputs": [
    {
     "data": {
      "text/plain": [
       "(array([ 3., 24., 17.,  8.,  3.,  1.,  2.,  0.,  0.,  1.]),\n",
       " array([ 0.,  1.,  2.,  3.,  4.,  5.,  6.,  7.,  8.,  9., 10.]),\n",
       " <BarContainer object of 10 artists>)"
      ]
     },
     "execution_count": 140,
     "metadata": {},
     "output_type": "execute_result"
    },
    {
     "data": {
      "image/png": "[encoded data removed]",
      "text/plain": [
       "<Figure size 432x288 with 1 Axes>"
      ]
     },
     "metadata": {
      "needs_background": "light"
     },
     "output_type": "display_data"
    }
   ],
   "source": [
    "plt.hist(cmc)"
   ]
  },
  {
   "cell_type": "code",
   "execution_count": 145,
   "id": "20ac0b58",
   "metadata": {},
   "outputs": [
    {
     "data": {
      "text/plain": [
       "<AxesSubplot:ylabel='Count'>"
      ]
     },
     "execution_count": 145,
     "metadata": {},
     "output_type": "execute_result"
    },
    {
     "data": {
      "image/png": "[encoded data removed]",
      "text/plain": [
       "<Figure size 432x288 with 1 Axes>"
      ]
     },
     "metadata": {
      "needs_background": "light"
     },
     "output_type": "display_data"
    }
   ],
   "source": [
    "sns.histplot(data=cmc, kde=True, binwidth=1)"
   ]
  },
  {
   "cell_type": "code",
   "execution_count": null,
   "id": "03c8655b",
   "metadata": {},
   "outputs": [],
   "source": []
  }
 ],
 "metadata": {
  "kernelspec": {
   "display_name": "Python 3 (ipykernel)",
   "language": "python",
   "name": "python3"
  },
  "language_info": {
   "codemirror_mode": {
    "name": "ipython",
    "version": 3
   },
   "file_extension": ".py",
   "mimetype": "text/x-python",
   "name": "python",
   "nbconvert_exporter": "python",
   "pygments_lexer": "ipython3",
   "version": "3.9.12"
  }
 },
 "nbformat": 4,
 "nbformat_minor": 5
}
