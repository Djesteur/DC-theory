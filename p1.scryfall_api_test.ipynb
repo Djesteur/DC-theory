{
 "cells": [
  {
   "cell_type": "code",
   "execution_count": 1,
   "id": "1044063d",
   "metadata": {},
   "outputs": [],
   "source": [
    "from requests import get\n",
    "from json import loads\n",
    "import time\n",
    "import pandas as pd\n",
    "from tqdm.notebook import trange, tqdm \n",
    "import matplotlib.pyplot as plt\n",
    "import seaborn as sns"
   ]
  },
  {
   "cell_type": "code",
   "execution_count": 2,
   "id": "450722bc",
   "metadata": {},
   "outputs": [],
   "source": [
    "import mtg_toolbox as mtg_tools"
   ]
  },
  {
   "cell_type": "code",
   "execution_count": 3,
   "id": "f7f95686",
   "metadata": {},
   "outputs": [],
   "source": [
    "card_request = \"Propeller Pioneer\" # carte de base\n",
    "\n",
    "#card_request = \"Agadeem's Awakening\" #mdfc land/spell\n",
    "#card_request = \"Jadzi, Oracle of Arcavios\" #mdfc spell/spell\n",
    "#card_request = \"Bonecrusher Giant / Stomp\" #adventure\n",
    "#card_request = \"claim-fame\" #split card\n",
    "#card_request = \"Delver of Secrets\" #double-faced spell/spell (free)\n",
    "#card_request = \"Search for Azcanta\" #double faced spell/land (free)\n",
    "#card_request = \"Arlinn, the Pack's Hope\" #double faced daybound (free)\n",
    "#card_request = \"Behold the Unspeakable\" #saga (free)\n",
    "#card_request = \"Hostile Hostel\" #double faced land/spell (free)\n",
    "#card_request = \"Malevolent Hermit\" #double face disturb (with mana cost) \n",
    "#card_request = \"Akki Lavarunner\" #flip card\n",
    "\n",
    "#card_request = \"Bruna, the Fading Light\" #meld => 1 seul face"
   ]
  },
  {
   "cell_type": "code",
   "execution_count": 4,
   "id": "096615c3",
   "metadata": {},
   "outputs": [],
   "source": [
    "card = loads(get(f\"https://api.scryfall.com/cards/named?fuzzy={card_request}\").text)"
   ]
  },
  {
   "cell_type": "code",
   "execution_count": 5,
   "id": "bf731724",
   "metadata": {
    "scrolled": true
   },
   "outputs": [],
   "source": [
    "#card[\"card_faces\"]"
   ]
  },
  {
   "cell_type": "code",
   "execution_count": 6,
   "id": "3cac0c82",
   "metadata": {},
   "outputs": [
    {
     "data": {
      "text/plain": [
       "4.0"
      ]
     },
     "execution_count": 6,
     "metadata": {},
     "output_type": "execute_result"
    }
   ],
   "source": [
    "card[\"cmc\"]"
   ]
  },
  {
   "cell_type": "code",
   "execution_count": 7,
   "id": "14607879",
   "metadata": {
    "scrolled": false
   },
   "outputs": [
    {
     "data": {
      "text/plain": [
       "dict_keys(['object', 'id', 'oracle_id', 'multiverse_ids', 'mtgo_id', 'mtgo_foil_id', 'tcgplayer_id', 'cardmarket_id', 'name', 'lang', 'released_at', 'uri', 'scryfall_uri', 'layout', 'highres_image', 'image_status', 'image_uris', 'mana_cost', 'cmc', 'type_line', 'oracle_text', 'power', 'toughness', 'colors', 'color_identity', 'keywords', 'all_parts', 'legalities', 'games', 'reserved', 'foil', 'nonfoil', 'finishes', 'oversized', 'promo', 'reprint', 'variation', 'set_id', 'set', 'set_name', 'set_type', 'set_uri', 'set_search_uri', 'scryfall_set_uri', 'rulings_uri', 'prints_search_uri', 'collector_number', 'digital', 'rarity', 'flavor_text', 'card_back_id', 'artist', 'artist_ids', 'illustration_id', 'border_color', 'frame', 'full_art', 'textless', 'booster', 'story_spotlight', 'edhrec_rank', 'prices', 'related_uris', 'purchase_uris'])"
      ]
     },
     "execution_count": 7,
     "metadata": {},
     "output_type": "execute_result"
    }
   ],
   "source": [
    "card.keys()"
   ]
  },
  {
   "cell_type": "code",
   "execution_count": 8,
   "id": "4d829ea7",
   "metadata": {},
   "outputs": [
    {
     "data": {
      "text/plain": [
       "['Flying', 'Fabricate']"
      ]
     },
     "execution_count": 8,
     "metadata": {},
     "output_type": "execute_result"
    }
   ],
   "source": [
    "card['keywords']"
   ]
  },
  {
   "cell_type": "code",
   "execution_count": 9,
   "id": "d1ff7ef0",
   "metadata": {},
   "outputs": [
    {
     "data": {
      "text/plain": [
       "'Flying\\nFabricate 1 (When this creature enters the battlefield, put a +1/+1 counter on it or create a 1/1 colorless Servo artifact creature token.)'"
      ]
     },
     "execution_count": 9,
     "metadata": {},
     "output_type": "execute_result"
    }
   ],
   "source": [
    "card[\"oracle_text\"]"
   ]
  },
  {
   "cell_type": "code",
   "execution_count": 10,
   "id": "5c1a3cee",
   "metadata": {},
   "outputs": [
    {
     "data": {
      "text/plain": [
       "False"
      ]
     },
     "execution_count": 10,
     "metadata": {},
     "output_type": "execute_result"
    }
   ],
   "source": [
    "\"card_faces\" in card.keys()"
   ]
  },
  {
   "cell_type": "code",
   "execution_count": 11,
   "id": "ff024fbe",
   "metadata": {},
   "outputs": [],
   "source": [
    "time.sleep(0.01)"
   ]
  },
  {
   "cell_type": "markdown",
   "id": "e4e7bad1",
   "metadata": {},
   "source": [
    "### Parse deck"
   ]
  },
  {
   "cell_type": "code",
   "execution_count": 21,
   "id": "84608db4",
   "metadata": {},
   "outputs": [],
   "source": [
    "#file = \"Listes/double_face_list.txt\" \n",
    "#file = \"Listes/double_face_list_only_2_cards.txt\"\n",
    "file = \"Listes/supertypes_types_subtypes.txt\"\n",
    "with open(file) as f:\n",
    "    lines = f.readlines()"
   ]
  },
  {
   "cell_type": "code",
   "execution_count": 13,
   "id": "bd17158f",
   "metadata": {
    "scrolled": true
   },
   "outputs": [
    {
     "data": {
      "application/vnd.jupyter.widget-view+json": {
       "model_id": "6ffbd24f79254eafb94dc16db069d4ac",
       "version_major": 2,
       "version_minor": 0
      },
      "text/plain": [
       "  0%|          | 0/13 [00:00<?, ?it/s]"
      ]
     },
     "metadata": {},
     "output_type": "display_data"
    }
   ],
   "source": [
    "decklist = {\"nom\":[],\"cmc\":[],\"text\":[],\"mana_cost\":[],\"type\":[],\"carte_id\":[], \"is_dfc\":[], \"color_identity\" :[]}\n",
    "card_number = 0\n",
    "for l in tqdm(lines):\n",
    "    line = l.split(\"\\n\")[0]\n",
    "    nb_card = int(line[0])\n",
    "    card = line[2:]\n",
    "    card = loads(get(f\"https://api.scryfall.com/cards/named?fuzzy={card}\").text)\n",
    "    for _ in range(nb_card):\n",
    "        if \"card_faces\" in card.keys() :\n",
    "            for face in card[\"card_faces\"] :\n",
    "                try:\n",
    "                    decklist[\"nom\"].append(face[\"name\"])\n",
    "                    decklist[\"cmc\"].append(mtg_tools.compute_cmc(face[\"mana_cost\"]))\n",
    "                    decklist[\"text\"].append(face[\"oracle_text\"])\n",
    "                    decklist[\"mana_cost\"].append(face[\"mana_cost\"])\n",
    "                    decklist[\"type\"].append(face[\"type_line\"])\n",
    "                    decklist[\"carte_id\"].append(card_number)\n",
    "                    decklist[\"is_dfc\"].append(True)\n",
    "                    decklist[\"color_identity\"].append(card[\"color_identity\"])\n",
    "                except KeyError:\n",
    "                        #TODO EDGE CASE: treat double face cards\n",
    "                        print(\"error on : \", face[\"name\"])\n",
    "        else :\n",
    "            try:\n",
    "                decklist[\"nom\"].append(card[\"name\"])\n",
    "                decklist[\"cmc\"].append(card[\"cmc\"])\n",
    "                decklist[\"text\"].append(card[\"oracle_text\"])\n",
    "                decklist[\"mana_cost\"].append(card[\"mana_cost\"])\n",
    "                decklist[\"type\"].append(card[\"type_line\"])\n",
    "                decklist[\"carte_id\"].append(card_number)\n",
    "                decklist[\"is_dfc\"].append(False)\n",
    "                decklist[\"color_identity\"].append(card[\"color_identity\"])\n",
    "            except KeyError:\n",
    "                #TODO EDGE CASE: treat double face cards\n",
    "                print(\"error on : \", card[\"name\"])\n",
    "    time.sleep(0.01)\n",
    "    card_number += 1"
   ]
  },
  {
   "cell_type": "code",
   "execution_count": 22,
   "id": "c96f1db7",
   "metadata": {},
   "outputs": [
    {
     "name": "stdout",
     "output_type": "stream",
     "text": [
      "{'nom': [], 'cmc': [], 'real_cmc': [], 'text': [], 'mana_cost': [], 'type_line': [], 'supertype': [], 'type': [], 'subtypes': [], 'carte_id': [], 'is_dfc': [], 'colors': [], 'color_identity': [], 'power': [], 'toughness': [], 'keywords': []}\n"
     ]
    },
    {
     "data": {
      "application/vnd.jupyter.widget-view+json": {
       "model_id": "3397498dae0949a987d6c18140943222",
       "version_major": 2,
       "version_minor": 0
      },
      "text/plain": [
       "  0%|          | 0/5 [00:00<?, ?it/s]"
      ]
     },
     "metadata": {},
     "output_type": "display_data"
    }
   ],
   "source": [
    "relevant_fields={\"nom\": \"name\", \n",
    "                \"cmc\": \"cmc\",\n",
    "                \"real_cmc\": \"real_cmc\",\n",
    "                \"text\": \"oracle_text\",\n",
    "                \"mana_cost\": \"mana_cost\",\n",
    "                \"type_line\": \"type_line\",\n",
    "                \"supertype\": \"supertype\",\n",
    "                \"type\": \"type\",\n",
    "                \"subtypes\": \"subtypes\",\n",
    "                \"carte_id\":\"carte_id\",\n",
    "                \"is_dfc\":\"is_dfc\",\n",
    "                \"colors\":\"colors\",\n",
    "                \"color_identity\": \"color_identity\",\n",
    "                \"power\": \"power\",\n",
    "                \"toughness\": \"toughness\",\n",
    "                \"keywords\": \"keywords\"}\n",
    "decklist = {k: [] for k in relevant_fields.keys()}\n",
    "print(decklist)\n",
    "card_number = 0\n",
    "for l in tqdm(lines):\n",
    "    line = l.split(\"\\n\")[0]\n",
    "    nb_card = int(line[0])\n",
    "    card = line[2:]\n",
    "    card = loads(get(f\"https://api.scryfall.com/cards/named?fuzzy={card}\").text)\n",
    "    for _ in range(nb_card):\n",
    "        card_faces = []\n",
    "        if \"card_faces\" in card.keys() :\n",
    "            for face in card[\"card_faces\"] :\n",
    "                card_faces.append(face)\n",
    "        else :\n",
    "            card_faces.append(card)\n",
    "        for card_face in card_faces :\n",
    "            for field in relevant_fields :\n",
    "                #generic cases is face or card\n",
    "                if relevant_fields[field] in card_face.keys() :\n",
    "                    decklist[field].append(card_face[relevant_fields[field]])\n",
    "                elif relevant_fields[field] in card.keys() :\n",
    "                    decklist[field].append(card[relevant_fields[field]])\n",
    "                else :\n",
    "                    #specific cases\n",
    "                    if field == \"is_dfc\" :\n",
    "                        is_dfc = \"card_faces\" in card.keys()\n",
    "                        decklist[field].append(is_dfc)\n",
    "                    elif field == \"carte_id\" :\n",
    "                        decklist[field].append(card_number)\n",
    "                    elif field == \"power\" or field == \"toughness\" :\n",
    "                        #non creatures cards have no power/thoughness field\n",
    "                        decklist[field].append('')\n",
    "                    elif field == \"real_cmc\" :\n",
    "                        decklist[field].append(mtg_tools.compute_cmc(card_face[\"mana_cost\"]))\n",
    "                    elif field == \"supertype\":\n",
    "                        cardtype = mtg_tools.Card_Type(card_face[\"type_line\"])\n",
    "                        decklist[field].append(cardtype.supertypes)\n",
    "                    elif field == \"type\":\n",
    "                        cardtype = mtg_tools.Card_Type(card_face[\"type_line\"])\n",
    "                        decklist[field].append(cardtype.card_types)\n",
    "                    elif field == \"subtypes\":\n",
    "                        cardtype = mtg_tools.Card_Type(card_face[\"type_line\"])\n",
    "                        decklist[field].append(cardtype.subtypes)\n",
    "                        \n",
    "    time.sleep(0.01)\n",
    "    card_number += 1"
   ]
  },
  {
   "cell_type": "code",
   "execution_count": 23,
   "id": "f5f591c5",
   "metadata": {},
   "outputs": [],
   "source": [
    "#print(decklist)"
   ]
  },
  {
   "cell_type": "code",
   "execution_count": 24,
   "id": "c8863c45",
   "metadata": {
    "scrolled": true
   },
   "outputs": [],
   "source": [
    "deck_df = pd.DataFrame(decklist)"
   ]
  },
  {
   "cell_type": "code",
   "execution_count": 25,
   "id": "9523de02",
   "metadata": {},
   "outputs": [
    {
     "data": {
      "text/html": [
       "<div>\n",
       "<style scoped>\n",
       "    .dataframe tbody tr th:only-of-type {\n",
       "        vertical-align: middle;\n",
       "    }\n",
       "\n",
       "    .dataframe tbody tr th {\n",
       "        vertical-align: top;\n",
       "    }\n",
       "\n",
       "    .dataframe thead th {\n",
       "        text-align: right;\n",
       "    }\n",
       "</style>\n",
       "<table border=\"1\" class=\"dataframe\">\n",
       "  <thead>\n",
       "    <tr style=\"text-align: right;\">\n",
       "      <th></th>\n",
       "      <th>nom</th>\n",
       "      <th>cmc</th>\n",
       "      <th>real_cmc</th>\n",
       "      <th>text</th>\n",
       "      <th>mana_cost</th>\n",
       "      <th>type_line</th>\n",
       "      <th>supertype</th>\n",
       "      <th>type</th>\n",
       "      <th>subtypes</th>\n",
       "      <th>carte_id</th>\n",
       "      <th>is_dfc</th>\n",
       "      <th>colors</th>\n",
       "      <th>color_identity</th>\n",
       "      <th>power</th>\n",
       "      <th>toughness</th>\n",
       "      <th>keywords</th>\n",
       "    </tr>\n",
       "  </thead>\n",
       "  <tbody>\n",
       "    <tr>\n",
       "      <th>0</th>\n",
       "      <td>Dark Depths</td>\n",
       "      <td>0.0</td>\n",
       "      <td>0</td>\n",
       "      <td>Dark Depths enters the battlefield with ten ic...</td>\n",
       "      <td></td>\n",
       "      <td>Legendary Snow Land</td>\n",
       "      <td>[Legendary, Snow]</td>\n",
       "      <td>[Land]</td>\n",
       "      <td>[]</td>\n",
       "      <td>0</td>\n",
       "      <td>False</td>\n",
       "      <td>[]</td>\n",
       "      <td>[]</td>\n",
       "      <td></td>\n",
       "      <td></td>\n",
       "      <td>[]</td>\n",
       "    </tr>\n",
       "    <tr>\n",
       "      <th>1</th>\n",
       "      <td>Narfi, Betrayer King</td>\n",
       "      <td>5.0</td>\n",
       "      <td>5</td>\n",
       "      <td>Other snow and Zombie creatures you control ge...</td>\n",
       "      <td>{3}{U}{B}</td>\n",
       "      <td>Legendary Snow Creature — Zombie Wizard</td>\n",
       "      <td>[Legendary, Snow]</td>\n",
       "      <td>[Creature]</td>\n",
       "      <td>[Zombie, Wizard]</td>\n",
       "      <td>1</td>\n",
       "      <td>False</td>\n",
       "      <td>[B, U]</td>\n",
       "      <td>[B, U]</td>\n",
       "      <td>4</td>\n",
       "      <td>3</td>\n",
       "      <td>[]</td>\n",
       "    </tr>\n",
       "    <tr>\n",
       "      <th>2</th>\n",
       "      <td>Codie, Vociferous Codex</td>\n",
       "      <td>3.0</td>\n",
       "      <td>3</td>\n",
       "      <td>You can't cast permanent spells.\\n{4}, {T}: Ad...</td>\n",
       "      <td>{3}</td>\n",
       "      <td>Legendary Artifact Creature — Construct</td>\n",
       "      <td>[Legendary]</td>\n",
       "      <td>[Artifact, Creature]</td>\n",
       "      <td>[Construct]</td>\n",
       "      <td>2</td>\n",
       "      <td>False</td>\n",
       "      <td>[]</td>\n",
       "      <td>[B, G, R, U, W]</td>\n",
       "      <td>1</td>\n",
       "      <td>4</td>\n",
       "      <td>[]</td>\n",
       "    </tr>\n",
       "    <tr>\n",
       "      <th>3</th>\n",
       "      <td>Bitterblossom</td>\n",
       "      <td>2.0</td>\n",
       "      <td>2</td>\n",
       "      <td>At the beginning of your upkeep, you lose 1 li...</td>\n",
       "      <td>{1}{B}</td>\n",
       "      <td>Tribal Enchantment — Faerie</td>\n",
       "      <td>[]</td>\n",
       "      <td>[Tribal, Enchantment]</td>\n",
       "      <td>[Faerie]</td>\n",
       "      <td>3</td>\n",
       "      <td>False</td>\n",
       "      <td>[B]</td>\n",
       "      <td>[B]</td>\n",
       "      <td></td>\n",
       "      <td></td>\n",
       "      <td>[]</td>\n",
       "    </tr>\n",
       "    <tr>\n",
       "      <th>4</th>\n",
       "      <td>Academy Manufactor</td>\n",
       "      <td>3.0</td>\n",
       "      <td>3</td>\n",
       "      <td>If you would create a Clue, Food, or Treasure ...</td>\n",
       "      <td>{3}</td>\n",
       "      <td>Artifact Creature — Assembly-Worker</td>\n",
       "      <td>[]</td>\n",
       "      <td>[Artifact, Creature]</td>\n",
       "      <td>[Assembly-Worker]</td>\n",
       "      <td>4</td>\n",
       "      <td>False</td>\n",
       "      <td>[]</td>\n",
       "      <td>[]</td>\n",
       "      <td>1</td>\n",
       "      <td>3</td>\n",
       "      <td>[]</td>\n",
       "    </tr>\n",
       "  </tbody>\n",
       "</table>\n",
       "</div>"
      ],
      "text/plain": [
       "                       nom  cmc  real_cmc  \\\n",
       "0              Dark Depths  0.0         0   \n",
       "1     Narfi, Betrayer King  5.0         5   \n",
       "2  Codie, Vociferous Codex  3.0         3   \n",
       "3            Bitterblossom  2.0         2   \n",
       "4       Academy Manufactor  3.0         3   \n",
       "\n",
       "                                                text  mana_cost  \\\n",
       "0  Dark Depths enters the battlefield with ten ic...              \n",
       "1  Other snow and Zombie creatures you control ge...  {3}{U}{B}   \n",
       "2  You can't cast permanent spells.\\n{4}, {T}: Ad...        {3}   \n",
       "3  At the beginning of your upkeep, you lose 1 li...     {1}{B}   \n",
       "4  If you would create a Clue, Food, or Treasure ...        {3}   \n",
       "\n",
       "                                 type_line          supertype  \\\n",
       "0                      Legendary Snow Land  [Legendary, Snow]   \n",
       "1  Legendary Snow Creature — Zombie Wizard  [Legendary, Snow]   \n",
       "2  Legendary Artifact Creature — Construct        [Legendary]   \n",
       "3              Tribal Enchantment — Faerie                 []   \n",
       "4      Artifact Creature — Assembly-Worker                 []   \n",
       "\n",
       "                    type           subtypes  carte_id  is_dfc  colors  \\\n",
       "0                 [Land]                 []         0   False      []   \n",
       "1             [Creature]   [Zombie, Wizard]         1   False  [B, U]   \n",
       "2   [Artifact, Creature]        [Construct]         2   False      []   \n",
       "3  [Tribal, Enchantment]           [Faerie]         3   False     [B]   \n",
       "4   [Artifact, Creature]  [Assembly-Worker]         4   False      []   \n",
       "\n",
       "    color_identity power toughness keywords  \n",
       "0               []                       []  \n",
       "1           [B, U]     4         3       []  \n",
       "2  [B, G, R, U, W]     1         4       []  \n",
       "3              [B]                       []  \n",
       "4               []     1         3       []  "
      ]
     },
     "execution_count": 25,
     "metadata": {},
     "output_type": "execute_result"
    }
   ],
   "source": [
    "deck_df"
   ]
  },
  {
   "cell_type": "code",
   "execution_count": 18,
   "id": "59772bfe",
   "metadata": {},
   "outputs": [],
   "source": [
    "cmc = []\n",
    "for i in range(len(deck_df)):\n",
    "    if \"Land\" in deck_df[\"type\"].iloc[i]:\n",
    "        pass\n",
    "    elif \"NA\" in deck_df[\"type\"].iloc[i]:\n",
    "        pass\n",
    "    else:\n",
    "        cmc.append(int(deck_df[\"cmc\"].iloc[i]))"
   ]
  },
  {
   "cell_type": "code",
   "execution_count": 19,
   "id": "e890acc7",
   "metadata": {},
   "outputs": [
    {
     "data": {
      "text/plain": [
       "(array([1., 3., 3., 5., 0., 4., 2., 0., 0., 2.]),\n",
       " array([0. , 0.8, 1.6, 2.4, 3.2, 4. , 4.8, 5.6, 6.4, 7.2, 8. ]),\n",
       " <BarContainer object of 10 artists>)"
      ]
     },
     "execution_count": 19,
     "metadata": {},
     "output_type": "execute_result"
    },
    {
     "data": {
      "image/png": "[encoded data removed]",
      "text/plain": [
       "<Figure size 432x288 with 1 Axes>"
      ]
     },
     "metadata": {
      "needs_background": "light"
     },
     "output_type": "display_data"
    }
   ],
   "source": [
    "plt.hist(cmc)"
   ]
  },
  {
   "cell_type": "code",
   "execution_count": 20,
   "id": "20ac0b58",
   "metadata": {},
   "outputs": [
    {
     "data": {
      "text/plain": [
       "<AxesSubplot:ylabel='Count'>"
      ]
     },
     "execution_count": 20,
     "metadata": {},
     "output_type": "execute_result"
    },
    {
     "data": {
      "image/png": "[encoded data removed]",
      "text/plain": [
       "<Figure size 432x288 with 1 Axes>"
      ]
     },
     "metadata": {
      "needs_background": "light"
     },
     "output_type": "display_data"
    }
   ],
   "source": [
    "sns.histplot(data=cmc, kde=True, binwidth=1)"
   ]
  },
  {
   "cell_type": "code",
   "execution_count": null,
   "id": "443f37d8",
   "metadata": {},
   "outputs": [],
   "source": []
  }
 ],
 "metadata": {
  "kernelspec": {
   "display_name": "Python 3 (ipykernel)",
   "language": "python",
   "name": "python3"
  },
  "language_info": {
   "codemirror_mode": {
    "name": "ipython",
    "version": 3
   },
   "file_extension": ".py",
   "mimetype": "text/x-python",
   "name": "python",
   "nbconvert_exporter": "python",
   "pygments_lexer": "ipython3",
   "version": "3.10.4"
  }
 },
 "nbformat": 4,
 "nbformat_minor": 5
}
