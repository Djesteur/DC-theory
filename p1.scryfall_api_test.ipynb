{
 "cells": [
  {
   "cell_type": "code",
   "execution_count": 21,
   "id": "1044063d",
   "metadata": {},
   "outputs": [],
   "source": [
    "from requests import get\n",
    "from json import loads\n",
    "import time\n",
    "import pandas as pd\n",
    "from tqdm.notebook import trange, tqdm \n",
    "import matplotlib.pyplot as plt\n",
    "import seaborn as sns"
   ]
  },
  {
   "cell_type": "code",
   "execution_count": 137,
   "id": "b8083507",
   "metadata": {},
   "outputs": [],
   "source": [
    "import mtg_toolbox as mtg_tools"
   ]
  },
  {
   "cell_type": "code",
   "execution_count": 176,
   "id": "f7f95686",
   "metadata": {},
   "outputs": [],
   "source": [
    "#card_request = \"Propeller Pioneer\" # carte de base\n",
    "\n",
    "#card_request = \"Agadeem's Awakening\" #mdfc land/spell\n",
    "#card_request = \"Jadzi, Oracle of Arcavios\" #mdfc spell/spell\n",
    "#card_request = \"Bonecrusher Giant / Stomp\" #adventure\n",
    "#card_request = \"claim-fame\" #split card\n",
    "#card_request = \"Delver of Secrets\" #double-faced spell/spell (free)\n",
    "#card_request = \"Search for Azcanta\" #double faced spell/land (free)\n",
    "#card_request = \"Arlinn, the Pack's Hope\" #double faced daybound (free)\n",
    "#card_request = \"Behold the Unspeakable\" #saga (free)\n",
    "#card_request = \"Hostile Hostel\" #double faced land/spell (free)\n",
    "#card_request = \"Malevolent Hermit\" #double face disturb (with mana cost) \n",
    "#card_request = \"Akki Lavarunner\" #flip card\n",
    "\n",
    "card_request = \"Bruna, the Fading Light\" #meld => 1 seul face"
   ]
  },
  {
   "cell_type": "code",
   "execution_count": 177,
   "id": "096615c3",
   "metadata": {},
   "outputs": [],
   "source": [
    "card = loads(get(f\"https://api.scryfall.com/cards/named?fuzzy={card_request}\").text)"
   ]
  },
  {
   "cell_type": "code",
   "execution_count": 178,
   "id": "bf731724",
   "metadata": {
    "scrolled": true
   },
   "outputs": [
    {
     "ename": "KeyError",
     "evalue": "'card_faces'",
     "output_type": "error",
     "traceback": [
      "\u001b[0;31m---------------------------------------------------------------------------\u001b[0m",
      "\u001b[0;31mKeyError\u001b[0m                                  Traceback (most recent call last)",
      "Input \u001b[0;32mIn [178]\u001b[0m, in \u001b[0;36m<cell line: 1>\u001b[0;34m()\u001b[0m\n\u001b[0;32m----> 1\u001b[0m \u001b[43mcard\u001b[49m\u001b[43m[\u001b[49m\u001b[38;5;124;43m\"\u001b[39;49m\u001b[38;5;124;43mcard_faces\u001b[39;49m\u001b[38;5;124;43m\"\u001b[39;49m\u001b[43m]\u001b[49m\n",
      "\u001b[0;31mKeyError\u001b[0m: 'card_faces'"
     ]
    }
   ],
   "source": [
    "card[\"card_faces\"]"
   ]
  },
  {
   "cell_type": "code",
   "execution_count": 179,
   "id": "c61a8b3b",
   "metadata": {},
   "outputs": [
    {
     "data": {
      "text/plain": [
       "7.0"
      ]
     },
     "execution_count": 179,
     "metadata": {},
     "output_type": "execute_result"
    }
   ],
   "source": [
    "card[\"cmc\"]"
   ]
  },
  {
   "cell_type": "code",
   "execution_count": 180,
   "id": "14607879",
   "metadata": {
    "scrolled": false
   },
   "outputs": [
    {
     "data": {
      "text/plain": [
       "dict_keys(['object', 'id', 'oracle_id', 'multiverse_ids', 'mtgo_id', 'tcgplayer_id', 'cardmarket_id', 'name', 'lang', 'released_at', 'uri', 'scryfall_uri', 'layout', 'highres_image', 'image_status', 'image_uris', 'mana_cost', 'cmc', 'type_line', 'oracle_text', 'power', 'toughness', 'colors', 'color_identity', 'keywords', 'all_parts', 'legalities', 'games', 'reserved', 'foil', 'nonfoil', 'finishes', 'oversized', 'promo', 'reprint', 'variation', 'set_id', 'set', 'set_name', 'set_type', 'set_uri', 'set_search_uri', 'scryfall_set_uri', 'rulings_uri', 'prints_search_uri', 'collector_number', 'digital', 'rarity', 'flavor_text', 'card_back_id', 'artist', 'artist_ids', 'illustration_id', 'border_color', 'frame', 'frame_effects', 'security_stamp', 'full_art', 'textless', 'booster', 'story_spotlight', 'edhrec_rank', 'penny_rank', 'prices', 'related_uris', 'purchase_uris'])"
      ]
     },
     "execution_count": 180,
     "metadata": {},
     "output_type": "execute_result"
    }
   ],
   "source": [
    "card.keys()"
   ]
  },
  {
   "cell_type": "code",
   "execution_count": 181,
   "id": "d1ff7ef0",
   "metadata": {},
   "outputs": [
    {
     "data": {
      "text/plain": [
       "'When you cast this spell, you may return target Angel or Human creature card from your graveyard to the battlefield.\\nFlying, vigilance\\n(Melds with Gisela, the Broken Blade.)'"
      ]
     },
     "execution_count": 181,
     "metadata": {},
     "output_type": "execute_result"
    }
   ],
   "source": [
    "card[\"oracle_text\"]"
   ]
  },
  {
   "cell_type": "code",
   "execution_count": 182,
   "id": "5c1a3cee",
   "metadata": {},
   "outputs": [
    {
     "data": {
      "text/plain": [
       "False"
      ]
     },
     "execution_count": 182,
     "metadata": {},
     "output_type": "execute_result"
    }
   ],
   "source": [
    "\"card_faces\" in card.keys()"
   ]
  },
  {
   "cell_type": "code",
   "execution_count": 97,
   "id": "ff024fbe",
   "metadata": {},
   "outputs": [],
   "source": [
    "time.sleep(0.01)"
   ]
  },
  {
   "cell_type": "markdown",
   "id": "e4e7bad1",
   "metadata": {},
   "source": [
    "### Parse deck"
   ]
  },
  {
   "cell_type": "code",
   "execution_count": 146,
   "id": "84608db4",
   "metadata": {},
   "outputs": [],
   "source": [
    "file = \"Listes/double_face_list.txt\" \n",
    "with open(file) as f:\n",
    "    lines = f.readlines()"
   ]
  },
  {
   "cell_type": "code",
   "execution_count": 147,
   "id": "bd17158f",
   "metadata": {
    "scrolled": true
   },
   "outputs": [
    {
     "data": {
      "application/vnd.jupyter.widget-view+json": {
       "model_id": "5721e0d2ca2c47b492382c1d1335e617",
       "version_major": 2,
       "version_minor": 0
      },
      "text/plain": [
       "  0%|          | 0/6 [00:00<?, ?it/s]"
      ]
     },
     "metadata": {},
     "output_type": "display_data"
    }
   ],
   "source": [
    "decklist = {\"nom\":[],\"cmc\":[],\"text\":[],\"mana_cost\":[],\"type\":[]}\n",
    "for l in tqdm(lines):\n",
    "    line = l.split(\"\\n\")[0]\n",
    "    nb_card = int(line[0])\n",
    "    card = line[2:]\n",
    "    card = loads(get(f\"https://api.scryfall.com/cards/named?fuzzy={card}\").text)\n",
    "    \n",
    "    for _ in range(nb_card):\n",
    "        if \"card_faces\" in card.keys() :\n",
    "            for face in card[\"card_faces\"] :\n",
    "                try:\n",
    "                    decklist[\"nom\"].append(face[\"name\"])\n",
    "                    decklist[\"cmc\"].append(mtg_tools.compute_cmc(face[\"mana_cost\"]))\n",
    "                    decklist[\"text\"].append(face[\"oracle_text\"])\n",
    "                    decklist[\"mana_cost\"].append(face[\"mana_cost\"])\n",
    "                    decklist[\"type\"].append(face[\"type_line\"])\n",
    "                except KeyError:\n",
    "                        #TODO EDGE CASE: treat double face cards\n",
    "                        print(\"error on : \", face[\"name\"])\n",
    "        else :\n",
    "            try:\n",
    "                decklist[\"nom\"].append(card[\"name\"])\n",
    "                decklist[\"cmc\"].append(card[\"cmc\"])\n",
    "                decklist[\"text\"].append(card[\"oracle_text\"])\n",
    "                decklist[\"mana_cost\"].append(card[\"mana_cost\"])\n",
    "                decklist[\"type\"].append(card[\"type_line\"])\n",
    "            except KeyError:\n",
    "                #TODO EDGE CASE: treat double face cards\n",
    "                print(\"error on : \", card[\"name\"])\n",
    "    time.sleep(0.01)"
   ]
  },
  {
   "cell_type": "code",
   "execution_count": 148,
   "id": "698a641c",
   "metadata": {},
   "outputs": [],
   "source": [
    "#print(decklist)"
   ]
  },
  {
   "cell_type": "code",
   "execution_count": 149,
   "id": "c8863c45",
   "metadata": {
    "scrolled": true
   },
   "outputs": [],
   "source": [
    "deck_df = pd.DataFrame(decklist)"
   ]
  },
  {
   "cell_type": "code",
   "execution_count": 150,
   "id": "9523de02",
   "metadata": {},
   "outputs": [
    {
     "data": {
      "text/html": [
       "<div>\n",
       "<style scoped>\n",
       "    .dataframe tbody tr th:only-of-type {\n",
       "        vertical-align: middle;\n",
       "    }\n",
       "\n",
       "    .dataframe tbody tr th {\n",
       "        vertical-align: top;\n",
       "    }\n",
       "\n",
       "    .dataframe thead th {\n",
       "        text-align: right;\n",
       "    }\n",
       "</style>\n",
       "<table border=\"1\" class=\"dataframe\">\n",
       "  <thead>\n",
       "    <tr style=\"text-align: right;\">\n",
       "      <th></th>\n",
       "      <th>nom</th>\n",
       "      <th>cmc</th>\n",
       "      <th>text</th>\n",
       "      <th>mana_cost</th>\n",
       "      <th>type</th>\n",
       "    </tr>\n",
       "  </thead>\n",
       "  <tbody>\n",
       "    <tr>\n",
       "      <th>0</th>\n",
       "      <td>Badlands</td>\n",
       "      <td>0.0</td>\n",
       "      <td>({T}: Add {B} or {R}.)</td>\n",
       "      <td></td>\n",
       "      <td>Land — Swamp Mountain</td>\n",
       "    </tr>\n",
       "    <tr>\n",
       "      <th>1</th>\n",
       "      <td>Bomat Courier</td>\n",
       "      <td>1.0</td>\n",
       "      <td>Haste\\nWhenever Bomat Courier attacks, exile t...</td>\n",
       "      <td>{1}</td>\n",
       "      <td>Artifact Creature — Construct</td>\n",
       "    </tr>\n",
       "    <tr>\n",
       "      <th>2</th>\n",
       "      <td>Bonecrusher Giant</td>\n",
       "      <td>3.0</td>\n",
       "      <td>Whenever Bonecrusher Giant becomes the target ...</td>\n",
       "      <td>{2}{R}</td>\n",
       "      <td>Creature — Giant</td>\n",
       "    </tr>\n",
       "    <tr>\n",
       "      <th>3</th>\n",
       "      <td>Stomp</td>\n",
       "      <td>2.0</td>\n",
       "      <td>Damage can't be prevented this turn. Stomp dea...</td>\n",
       "      <td>{1}{R}</td>\n",
       "      <td>Instant — Adventure</td>\n",
       "    </tr>\n",
       "    <tr>\n",
       "      <th>4</th>\n",
       "      <td>Agadeem's Awakening</td>\n",
       "      <td>3.0</td>\n",
       "      <td>Return from your graveyard to the battlefield ...</td>\n",
       "      <td>{X}{B}{B}{B}</td>\n",
       "      <td>Sorcery</td>\n",
       "    </tr>\n",
       "    <tr>\n",
       "      <th>5</th>\n",
       "      <td>Agadeem, the Undercrypt</td>\n",
       "      <td>0.0</td>\n",
       "      <td>As Agadeem, the Undercrypt enters the battlefi...</td>\n",
       "      <td></td>\n",
       "      <td>Land</td>\n",
       "    </tr>\n",
       "    <tr>\n",
       "      <th>6</th>\n",
       "      <td>Claim</td>\n",
       "      <td>1.0</td>\n",
       "      <td>Return target creature card with mana value 2 ...</td>\n",
       "      <td>{B}</td>\n",
       "      <td>Sorcery</td>\n",
       "    </tr>\n",
       "    <tr>\n",
       "      <th>7</th>\n",
       "      <td>Fame</td>\n",
       "      <td>2.0</td>\n",
       "      <td>Aftermath (Cast this spell only from your grav...</td>\n",
       "      <td>{1}{R}</td>\n",
       "      <td>Sorcery</td>\n",
       "    </tr>\n",
       "    <tr>\n",
       "      <th>8</th>\n",
       "      <td>Mayor of Avabruck</td>\n",
       "      <td>2.0</td>\n",
       "      <td>Other Human creatures you control get +1/+1.\\n...</td>\n",
       "      <td>{1}{G}</td>\n",
       "      <td>Creature — Human Advisor Werewolf</td>\n",
       "    </tr>\n",
       "    <tr>\n",
       "      <th>9</th>\n",
       "      <td>Howlpack Alpha</td>\n",
       "      <td>0.0</td>\n",
       "      <td>Each other creature you control that's a Werew...</td>\n",
       "      <td></td>\n",
       "      <td>Creature — Werewolf</td>\n",
       "    </tr>\n",
       "  </tbody>\n",
       "</table>\n",
       "</div>"
      ],
      "text/plain": [
       "                       nom  cmc  \\\n",
       "0                 Badlands  0.0   \n",
       "1            Bomat Courier  1.0   \n",
       "2        Bonecrusher Giant  3.0   \n",
       "3                    Stomp  2.0   \n",
       "4      Agadeem's Awakening  3.0   \n",
       "5  Agadeem, the Undercrypt  0.0   \n",
       "6                    Claim  1.0   \n",
       "7                     Fame  2.0   \n",
       "8        Mayor of Avabruck  2.0   \n",
       "9           Howlpack Alpha  0.0   \n",
       "\n",
       "                                                text     mana_cost  \\\n",
       "0                             ({T}: Add {B} or {R}.)                 \n",
       "1  Haste\\nWhenever Bomat Courier attacks, exile t...           {1}   \n",
       "2  Whenever Bonecrusher Giant becomes the target ...        {2}{R}   \n",
       "3  Damage can't be prevented this turn. Stomp dea...        {1}{R}   \n",
       "4  Return from your graveyard to the battlefield ...  {X}{B}{B}{B}   \n",
       "5  As Agadeem, the Undercrypt enters the battlefi...                 \n",
       "6  Return target creature card with mana value 2 ...           {B}   \n",
       "7  Aftermath (Cast this spell only from your grav...        {1}{R}   \n",
       "8  Other Human creatures you control get +1/+1.\\n...        {1}{G}   \n",
       "9  Each other creature you control that's a Werew...                 \n",
       "\n",
       "                                type  \n",
       "0              Land — Swamp Mountain  \n",
       "1      Artifact Creature — Construct  \n",
       "2                   Creature — Giant  \n",
       "3                Instant — Adventure  \n",
       "4                            Sorcery  \n",
       "5                               Land  \n",
       "6                            Sorcery  \n",
       "7                            Sorcery  \n",
       "8  Creature — Human Advisor Werewolf  \n",
       "9                Creature — Werewolf  "
      ]
     },
     "execution_count": 150,
     "metadata": {},
     "output_type": "execute_result"
    }
   ],
   "source": [
    "deck_df"
   ]
  },
  {
   "cell_type": "code",
   "execution_count": 151,
   "id": "59772bfe",
   "metadata": {},
   "outputs": [],
   "source": [
    "cmc = []\n",
    "for i in range(len(deck_df)):\n",
    "    if \"Land\" in deck_df[\"type\"].iloc[i]:\n",
    "        pass\n",
    "    elif \"NA\" in deck_df[\"type\"].iloc[i]:\n",
    "        pass\n",
    "    else:\n",
    "        cmc.append(int(deck_df[\"cmc\"].iloc[i]))"
   ]
  },
  {
   "cell_type": "code",
   "execution_count": 152,
   "id": "e890acc7",
   "metadata": {},
   "outputs": [
    {
     "data": {
      "text/plain": [
       "(array([1., 0., 0., 2., 0., 0., 3., 0., 0., 2.]),\n",
       " array([0. , 0.3, 0.6, 0.9, 1.2, 1.5, 1.8, 2.1, 2.4, 2.7, 3. ]),\n",
       " <BarContainer object of 10 artists>)"
      ]
     },
     "execution_count": 152,
     "metadata": {},
     "output_type": "execute_result"
    },
    {
     "data": {
      "image/png": "[encoded data removed]",
      "text/plain": [
       "<Figure size 432x288 with 1 Axes>"
      ]
     },
     "metadata": {
      "needs_background": "light"
     },
     "output_type": "display_data"
    }
   ],
   "source": [
    "plt.hist(cmc)"
   ]
  },
  {
   "cell_type": "code",
   "execution_count": 153,
   "id": "20ac0b58",
   "metadata": {},
   "outputs": [
    {
     "data": {
      "text/plain": [
       "<AxesSubplot:ylabel='Count'>"
      ]
     },
     "execution_count": 153,
     "metadata": {},
     "output_type": "execute_result"
    },
    {
     "data": {
      "image/png": "[encoded data removed]",
      "text/plain": [
       "<Figure size 432x288 with 1 Axes>"
      ]
     },
     "metadata": {
      "needs_background": "light"
     },
     "output_type": "display_data"
    }
   ],
   "source": [
    "sns.histplot(data=cmc, kde=True, binwidth=1)"
   ]
  },
  {
   "cell_type": "code",
   "execution_count": null,
   "id": "94f69841",
   "metadata": {},
   "outputs": [],
   "source": []
  }
 ],
 "metadata": {
  "kernelspec": {
   "display_name": "Python 3 (ipykernel)",
   "language": "python",
   "name": "python3"
  },
  "language_info": {
   "codemirror_mode": {
    "name": "ipython",
    "version": 3
   },
   "file_extension": ".py",
   "mimetype": "text/x-python",
   "name": "python",
   "nbconvert_exporter": "python",
   "pygments_lexer": "ipython3",
   "version": "3.10.4"
  }
 },
 "nbformat": 4,
 "nbformat_minor": 5
}
